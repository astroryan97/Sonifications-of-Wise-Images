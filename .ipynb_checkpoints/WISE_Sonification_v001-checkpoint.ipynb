{
 "cells": [
  {
   "cell_type": "code",
   "execution_count": null,
   "id": "5899de2a",
   "metadata": {},
   "outputs": [],
   "source": []
  },
  {
   "cell_type": "markdown",
   "id": "1e7550d0",
   "metadata": {},
   "source": [
    "# Sonifications of WISE Infared Images\n",
    "\n",
    "## Imports"
   ]
  },
  {
   "cell_type": "code",
   "execution_count": 1,
   "id": "67f91ebc",
   "metadata": {},
   "outputs": [],
   "source": [
    "# Python standard library\n",
    "import os\n",
    "import urllib\n",
    "\n",
    "# Other third-party software\n",
    "import numpy as np\n",
    "from skimage.measure import block_reduce\n",
    "import matplotlib.pyplot as plt\n",
    "\n",
    "# Audio\n",
    "#from audiolazy import str2midi # Apparently doesnt work in Python >3.6\n",
    "from midiutil import MIDIFile\n",
    "\n",
    "# Astropy\n",
    "from astropy import coordinates as coord\n",
    "from astropy import units as u\n",
    "from astropy.table import Table\n",
    "\n",
    "from astropy.visualization import make_lupton_rgb\n",
    "\n",
    "from astroquery.skyview import SkyView\n",
    "\n",
    "from astropy.io import fits\n",
    "from astropy.utils.data import download_file\n",
    "\n",
    "# Astroquery\n",
    "import astroquery\n",
    "from astroquery.simbad import Simbad\n",
    "from astroquery.vo_conesearch import conf, conesearch, vos_catalog"
   ]
  },
  {
   "cell_type": "markdown",
   "id": "f0945107",
   "metadata": {},
   "source": [
    "# Possible Targets\n",
    "\n",
    "1. **Andromeda (M31) Galaxy** - Our closet Neighbour\n",
    "    - RA: 00h 42m 44s\n",
    "    - Dec: +41° 16' 09\"\n",
    "2. IC 342 - A normally obscured galaxy visible through infrared imaging\n",
    "    - RA: 03h 46m 48s\n",
    "    - Dec: +68° 05' 46\"\n",
    "3. WISE 0458+6434 - which is thought to consist of two T-class brown dwarfs\n",
    "    - RA: 04h 58m 48s\n",
    "    - Dec: +64° 34' 52\"\n",
    "4. SuperNova Renmant of Zeta Ophiuchi and bow shock\n",
    "    - RA: 16h 37m 09s\n",
    "    - Dec: -10° 34' 01\"\n",
    "5. Puppis A - Supernova remnant\n",
    "    - RA: 08h 24m 08s\n",
    "    - Dec: -42° 59' 26\"\n",
    "6. The Rho Ophiuchi cloud complex\n",
    "    - RA: - RA 16h 28m 6s\n",
    "    - Dec -24° 32′ 30″\n",
    "7. Lambda Centauri Nebula (IC 2944) - Star-forming region within the Milky Way\n",
    "    - RA: 11h 36m 36.0s\n",
    "    - Dec: −63° 02′ 00″\n",
    "8. WISE J224607.57-052635.0 - the most luminous known galaxy in the Universe.\n",
    "    - RA: 22h 46m 07.57s\n",
    "    - Dec: -05° 26' 35.0\""
   ]
  },
  {
   "cell_type": "markdown",
   "id": "9b847264",
   "metadata": {},
   "source": [
    "# Data Acquisition"
   ]
  },
  {
   "cell_type": "code",
   "execution_count": 2,
   "id": "599b9811",
   "metadata": {},
   "outputs": [],
   "source": [
    "def fetch_wise_images(targets, output_root_directory, bands=['WISE 3.4', 'WISE 4.6', 'WISE 12', 'WISE 22']):\n",
    "    \"\"\"\n",
    "    Fetches WISE survey images in FITS format for a list of targets and organizes them into separate folders.\n",
    "\n",
    "    Parameters:\n",
    "        targets (list of tuple): List of tuples, each containing the target name (str) and its coordinates (astropy.coordinates.SkyCoord).\n",
    "        output_root_directory (str): Root directory where the downloaded FITS files and subfolders will be saved.\n",
    "        bands (list of str): List of survey bands to fetch (e.g., ['WISE 3.4', 'WISE 4.6']).\n",
    "\n",
    "    Returns:\n",
    "        Dictionary containing target names as keys and lists of downloaded FITS file paths as values.\n",
    "    \"\"\"\n",
    "    downloaded_files_by_target = {}\n",
    "    \n",
    "    # Create the output root directory if it doesn't exist\n",
    "    if not os.path.exists(output_root_directory):\n",
    "        os.makedirs(output_root_directory)\n",
    "\n",
    "    for target_name, target_coordinates in targets:\n",
    "        # Create a subdirectory for the target\n",
    "        target_directory = os.path.join(output_root_directory, target_name)\n",
    "\n",
    "        # Create the target's subdirectory if it doesn't exist\n",
    "        if not os.path.exists(target_directory):\n",
    "            os.makedirs(target_directory)\n",
    "\n",
    "        # Fetch images from SkyView\n",
    "        img_list = SkyView.get_images(position=target_coordinates, survey=bands)\n",
    "\n",
    "        # Download and save the images for the target\n",
    "        downloaded_files = []\n",
    "        for i, img_info in enumerate(img_list):\n",
    "            # Open header\n",
    "            header = img_info[0].header\n",
    "            \n",
    "            # Extract coordinates from the header\n",
    "            ra = header['CRVAL1']\n",
    "            dec = header['CRVAL2']\n",
    "            \n",
    "            # Get the band from the list of bands and remove decimals\n",
    "            band = bands[i].replace('WISE ', '').replace(' ', '').replace('.', '')\n",
    "            \n",
    "            # Convert coordinates to a suitable format for the file name\n",
    "            ra_str = str(ra).replace('.', '').replace('-', '').replace(' ', '').zfill(8)\n",
    "            dec_str = str(dec).replace('.', '').replace('-', '').replace(' ', '').zfill(7)\n",
    "            \n",
    "            # Construct the file name with coordinates\n",
    "            filename = os.path.join(target_directory, f'WISE_J{ra_str}_{dec_str}_{band}.fits')\n",
    "            #filename = os.path.join(target_directory, f'{survey_name}_{ra_str}_{dec_str}_{bands[i]}.fits')\n",
    "            img_info[0].writeto(filename, overwrite=True)\n",
    "            downloaded_files.append(filename)\n",
    "\n",
    "        downloaded_files_by_target[target_name] = downloaded_files\n",
    "\n",
    "    return downloaded_files_by_target"
   ]
  },
  {
   "cell_type": "code",
   "execution_count": 3,
   "id": "bccb16fd",
   "metadata": {},
   "outputs": [
    {
     "name": "stdout",
     "output_type": "stream",
     "text": [
      "Downloaded FITS files for M31:\n",
      "wise_images\\M31\\WISE_J00106847_0412688_34.fits\n",
      "wise_images\\M31\\WISE_J00106847_0412688_46.fits\n",
      "wise_images\\M31\\WISE_J00106847_0412688_12.fits\n",
      "wise_images\\M31\\WISE_J00106847_0412688_22.fits\n",
      "Downloaded FITS files for IC 342:\n",
      "wise_images\\IC 342\\WISE_J00567022_0680961_34.fits\n",
      "wise_images\\IC 342\\WISE_J00567022_0680961_46.fits\n",
      "wise_images\\IC 342\\WISE_J00567022_0680961_12.fits\n",
      "wise_images\\IC 342\\WISE_J00567022_0680961_22.fits\n"
     ]
    }
   ],
   "source": [
    "# List of targets with names and coordinates\n",
    "targets = [\n",
    "    ('M31', coord.SkyCoord.from_name('M31', frame='icrs')),\n",
    "    ('IC 342', coord.SkyCoord.from_name('IC 342', frame='icrs'))\n",
    "]\n",
    "\n",
    "# Root directory where the downloaded FITS files and subfolders will be saved\n",
    "root_output_dir = 'wise_images'\n",
    "\n",
    "# Fetch WISE images for each target and organize them into subdirectories\n",
    "downloaded_files_by_target = fetch_wise_images(targets, root_output_dir)\n",
    "\n",
    "# Print the list of downloaded files for each target\n",
    "for target_name, downloaded_files in downloaded_files_by_target.items():\n",
    "    print(f\"Downloaded FITS files for {target_name}:\")\n",
    "    for filename in downloaded_files:\n",
    "        print(filename)"
   ]
  },
  {
   "cell_type": "code",
   "execution_count": 4,
   "id": "d3ee0235",
   "metadata": {},
   "outputs": [],
   "source": [
    "def open_fits_file(file_path):\n",
    "    ''' Open FITS image file\n",
    "    '''\n",
    "    with fits.open(file_path) as hdu_list:\n",
    "        data = hdu_list[0].data\n",
    "    return data"
   ]
  },
  {
   "cell_type": "code",
   "execution_count": 5,
   "id": "bd454f62",
   "metadata": {},
   "outputs": [],
   "source": [
    "def file_path_joiner(file_name, root_path):\n",
    "    ''' Get file path of images to open\n",
    "    '''\n",
    "    relative_path = root_path + file_name\n",
    "    file_path = os.path.join(os.getcwd(), relative_path)\n",
    "    return file_path"
   ]
  },
  {
   "cell_type": "code",
   "execution_count": 6,
   "id": "411d5be2",
   "metadata": {},
   "outputs": [],
   "source": [
    "relative_path = 'wise_images/M31/WISE_J00106847_0412688_12.fits'\n",
    "image_file_path = os.path.join(os.getcwd(), relative_path)\n",
    "#image_file = download_file('http://data.astropy.org/tutorials/FITS-images/HorseHead.fits', cache=True )"
   ]
  },
  {
   "cell_type": "code",
   "execution_count": 7,
   "id": "af93028e",
   "metadata": {},
   "outputs": [],
   "source": [
    "image_file_path1 = file_path_joiner('WISE_J00106847_0412688_12.fits', 'wise_images/M31/')\n",
    "image_file_path2 = file_path_joiner('WISE_J00106847_0412688_22.fits', 'wise_images/M31/')\n",
    "image_file_path3 = file_path_joiner('WISE_J00106847_0412688_34.fits', 'wise_images/M31/')\n",
    "image_file_path4 = file_path_joiner('WISE_J00106847_0412688_46.fits', 'wise_images/M31/')"
   ]
  },
  {
   "cell_type": "code",
   "execution_count": 8,
   "id": "0697e9b6",
   "metadata": {},
   "outputs": [],
   "source": [
    "image_data1 = open_fits_file(image_file_path1)#.astype(np.float64)\n",
    "image_data2 = open_fits_file(image_file_path2)#.astype(np.float64)\n",
    "image_data3 = open_fits_file(image_file_path3)#.astype(np.float64)\n",
    "image_data4 = open_fits_file(image_file_path4)#.astype(np.float64)"
   ]
  },
  {
   "cell_type": "code",
   "execution_count": 9,
   "id": "117277df",
   "metadata": {},
   "outputs": [
    {
     "name": "stdout",
     "output_type": "stream",
     "text": [
      ">f4 >f4 >f4 >f4\n",
      "(300, 300) (300, 300) (300, 300) (300, 300)\n",
      "422.43933 971.7129\n",
      "122.00838 133.15477\n",
      "63.78296 3752.8735\n",
      "32.889618 1491.2661\n"
     ]
    }
   ],
   "source": [
    "print(image_data1.dtype, image_data2.dtype, image_data3.dtype, image_data4.dtype)\n",
    "print(image_data1.shape, image_data2.shape, image_data3.shape, image_data4.shape)\n",
    "\n",
    "print(np.min(image_data1), np.max(image_data1))\n",
    "print(np.min(image_data2), np.max(image_data2))\n",
    "print(np.min(image_data3), np.max(image_data3))\n",
    "print(np.min(image_data4), np.max(image_data4))"
   ]
  },
  {
   "cell_type": "code",
   "execution_count": 38,
   "id": "ac19c90c",
   "metadata": {},
   "outputs": [],
   "source": [
    "red_image = image_data4.astype(np.float32)\n",
    "green_image = image_data2.astype(np.float32) #+ image_data3.astype(np.float32)\n",
    "blue_image = image_data1.astype(np.float32)"
   ]
  },
  {
   "cell_type": "code",
   "execution_count": 36,
   "id": "6a5561b8",
   "metadata": {},
   "outputs": [
    {
     "name": "stdout",
     "output_type": "stream",
     "text": [
      "float32 float32 float32\n",
      "(30, 30) (30, 30) (30, 30)\n",
      "34.413754 1019.1214\n",
      "190.03699 2764.2017\n",
      "423.04492 849.67096\n"
     ]
    }
   ],
   "source": [
    "print(red_image.dtype, green_image.dtype, blue_image.dtype)\n",
    "print(red_image.shape, green_image.shape, blue_image.shape)\n",
    "\n",
    "print(np.min(red_image), np.max(red_image))\n",
    "print(np.min(green_image), np.max(green_image))\n",
    "print(np.min(blue_image), np.max(blue_image))"
   ]
  },
  {
   "cell_type": "code",
   "execution_count": 43,
   "id": "0f18a0db",
   "metadata": {},
   "outputs": [
    {
     "data": {
      "text/plain": [
       "<matplotlib.image.AxesImage at 0x1c4b7c73a90>"
      ]
     },
     "execution_count": 43,
     "metadata": {},
     "output_type": "execute_result"
    },
    {
     "data": {
      "image/png": "[encoded data removed]",
      "text/plain": [
       "<Figure size 640x480 with 1 Axes>"
      ]
     },
     "metadata": {},
     "output_type": "display_data"
    }
   ],
   "source": [
    "image = make_lupton_rgb(red_image, green_image, blue_image)\n",
    "plt.axis('off')\n",
    "plt.title(\"A Poor Attempt to Create an RGB Image of M31\")\n",
    "plt.imshow(image, origin='lower')"
   ]
  },
  {
   "cell_type": "code",
   "execution_count": 14,
   "id": "058de3e6",
   "metadata": {},
   "outputs": [
    {
     "data": {
      "image/png": "[encoded data removed]",
      "text/plain": [
       "<Figure size 640x480 with 2 Axes>"
      ]
     },
     "metadata": {},
     "output_type": "display_data"
    }
   ],
   "source": [
    "# Open the FITS file\n",
    "hdu_list = fits.open(image_file_path1)\n",
    "\n",
    "data = hdu_list[0].data\n",
    "\n",
    "# Display image\n",
    "plt.imshow(data, cmap='gray') #viridis\n",
    "plt.colorbar()\n",
    "plt.title(r'WISE FITS Image of M31 at 1.2$\\rm \\mu m$')\n",
    "plt.axis(\"off\")\n",
    "plt.show()\n",
    "\n",
    "hdu_list.close()"
   ]
  },
  {
   "cell_type": "code",
   "execution_count": null,
   "id": "87686245",
   "metadata": {},
   "outputs": [],
   "source": []
  },
  {
   "cell_type": "markdown",
   "id": "b8c726b4",
   "metadata": {},
   "source": [
    "# Sonificiation Algorithm"
   ]
  },
  {
   "cell_type": "code",
   "execution_count": 15,
   "id": "6bbbb13d",
   "metadata": {},
   "outputs": [],
   "source": [
    "def normalize_image_data(image_data):\n",
    "    ''' Normalize the image data to values between 0 and 1.0\n",
    "    '''\n",
    "    return(image_data - np.min(image_data)) / (np.max(image_data) - np.min(image_data))"
   ]
  },
  {
   "cell_type": "code",
   "execution_count": 69,
   "id": "0eda6abf",
   "metadata": {},
   "outputs": [],
   "source": [
    "def calculate_midi_pitch_range(octave_offset):\n",
    "    \"\"\"\n",
    "    Calculate the MIDI pitch range based on the given octave offset.\n",
    "    \n",
    "    Parameters:\n",
    "        octave_offset (int): The octave offset value. Positive values move up in octaves, negative values move down.\n",
    "    \n",
    "    Returns:\n",
    "        tuple: A tuple containing the minimum and maximum MIDI pitches for the specified octave.\n",
    "    \"\"\"\n",
    "    # Define the number of semitones in an octave\n",
    "    semitones_per_octave = 12\n",
    "\n",
    "    # Define the default minimum and maximum pitches\n",
    "    default_min_pitch = 60\n",
    "    default_max_pitch = 72\n",
    "\n",
    "    # Calculate the MIDI pitch range based on the octave_offset\n",
    "    min_pitch = default_min_pitch + octave_offset * semitones_per_octave\n",
    "    max_pitch = default_max_pitch + octave_offset * semitones_per_octave\n",
    "\n",
    "    return min_pitch, max_pitch"
   ]
  },
  {
   "cell_type": "code",
   "execution_count": 17,
   "id": "45afdb4a",
   "metadata": {},
   "outputs": [],
   "source": [
    "def map_brightness_to_pitch_and_velocity(brightness, min_pitch = 60, max_pitch = 72):\n",
    "    ''' Define a mapping function for brightness to pitch and velocity\n",
    "    \n",
    "    Parameters:\n",
    "        brightness (float): The octave offset value (e.g., 0 for the default octave).\n",
    "        min_pitch (int): The mininum MIDI pitch range.\n",
    "        max_pitch (int): The maximum MIDI pitch range. Whole range should span 1 octave (12 pitch values)\n",
    "        \n",
    "            Default is from C4 to C6 or 60 to 72 (middle C)\n",
    "    \n",
    "    Returns:\n",
    "        tuple: A tuple containing the mapped pitch and velocity of the input.\n",
    "    '''\n",
    "    # Define the range for mapping brightness to pitch (e.g., from C4 to C6)\n",
    "    pitch_range = [min_pitch, max_pitch]  # MIDI note numbers\n",
    "\n",
    "    # Map brightness to pitch within the defined range\n",
    "    pitch = int(np.interp(brightness, [0, 1], pitch_range))\n",
    "\n",
    "    # Map brightness to velocity (e.g., linear mapping)\n",
    "    velocity = int(np.interp(brightness, [0, 1], [40, 127]))\n",
    "\n",
    "    return pitch, velocity"
   ]
  },
  {
   "cell_type": "code",
   "execution_count": 70,
   "id": "0fef36c0",
   "metadata": {},
   "outputs": [],
   "source": [
    "def create_image_sonification(normalized_data, output_file, bpm = 120):\n",
    "    ''' The algorithim to create the sonification of the images\n",
    "    \n",
    "    Parameters:\n",
    "        normalized_data (list): List of numpy arrays with the NORMALIZED image data for each the four wavelength bands.\n",
    "        output_file (string): The name of the file to save the midi sonification as. \n",
    "        bpm (int): The desired tempo in beats per minute (BPM).\n",
    "    \n",
    "    Returns:\n",
    "        None\n",
    "    '''\n",
    "    \n",
    "    # Assumes all images are same size\n",
    "    num_rows, num_cols = normalized_data[0].shape\n",
    "    \n",
    "    #bpm = 120 # Tempo in beats per minute (BPM)\n",
    "    duration_per_pixel = 1 #0.1  \n",
    "    \n",
    "    # define minimum and maximum note velocity\n",
    "    #vel_min, vel_max = 35, 127   \n",
    "    \n",
    "    # Define starting pitch range\n",
    "    min_pitch = 60\n",
    "    max_pitch = 72\n",
    "    \n",
    "    # Define octave offsets for each frequency band\n",
    "    #octave_offsets = [i for i in range(0, len(normalized_data))]\n",
    "    octave_offsets = [i - 1 for i in range(0, len(normalized_data))]\n",
    "    print(f\"Octave offsets: {octave_offsets}\")\n",
    "    \n",
    "    # Create a MIDI file\n",
    "    midi_file = MIDIFile(1)\n",
    "    midi_file.addTempo(0, 0, bpm)\n",
    "    \n",
    "    print(\"Creating MIDI file...\")\n",
    "    \n",
    "    ## Map image data to MIDI notes and velocity\n",
    "    for band_index, img_data in enumerate(normalized_data):\n",
    "        \n",
    "        # reset time grid\n",
    "        time_point = 0\n",
    "        \n",
    "        # Compute MIDI pitch range\n",
    "        min_pitch, max_pitch = calculate_midi_pitch_range(octave_offsets[band_index])\n",
    "        print(octave_offsets[band_index])\n",
    "        print(f\"min pitch:{min_pitch}, max pitch:{max_pitch}\")\n",
    "        \n",
    "        # iterate over the all pixels in image\n",
    "        for i in range(0, num_rows):\n",
    "            for j in range(0, num_cols):\n",
    "                \n",
    "                # Get pixel value\n",
    "                brightness = img_data[i, j]\n",
    "                \n",
    "                # Map brightness to pitch and velocity\n",
    "                pitch, velocity = map_brightness_to_pitch_and_velocity(\n",
    "                    brightness, min_pitch, max_pitch\n",
    "                )\n",
    "\n",
    "                # Add notes to MIDI file\n",
    "                midi_file.addNote(\n",
    "                    0,  # Track number\n",
    "                    0,  # Channel number\n",
    "                    pitch,\n",
    "                    time_point,\n",
    "                    int(duration_per_pixel), # note duration\n",
    "                    velocity\n",
    "                )\n",
    "                \n",
    "                time_point += 1\n",
    "                #print(f\"time_point:{time_point}, pitch:{pitch}, velocity:{velocity}\")\n",
    "    \n",
    "    # Save the MIDI file\n",
    "    with open(output_file, \"wb\") as file:\n",
    "        midi_file.writeFile(file)\n",
    "    \n",
    "    print(f\"Saved: {output_file}\")"
   ]
  },
  {
   "cell_type": "code",
   "execution_count": 46,
   "id": "8ca017e2",
   "metadata": {},
   "outputs": [],
   "source": [
    "# File paths for M31\n",
    "image_file_path1 = file_path_joiner('WISE_J00106847_0412688_12.fits', 'wise_images/M31/')\n",
    "image_file_path2 = file_path_joiner('WISE_J00106847_0412688_22.fits', 'wise_images/M31/')\n",
    "image_file_path3 = file_path_joiner('WISE_J00106847_0412688_34.fits', 'wise_images/M31/')\n",
    "image_file_path4 = file_path_joiner('WISE_J00106847_0412688_46.fits', 'wise_images/M31/')\n",
    "\n",
    "# Open FITs images and get the data\n",
    "image_data1 = open_fits_file(image_file_path1)\n",
    "image_data2 = open_fits_file(image_file_path2)\n",
    "image_data3 = open_fits_file(image_file_path3)\n",
    "image_data4 = open_fits_file(image_file_path4)"
   ]
  },
  {
   "cell_type": "code",
   "execution_count": 47,
   "id": "7f3c154d",
   "metadata": {},
   "outputs": [],
   "source": [
    "# define kernal size fofr convolution\n",
    "kernel_size = (10,10)\n",
    "\n",
    "# Downsample images to 30 by 30\n",
    "image_data1 = block_reduce(image_data1, block_size=kernel_size, func=np.mean, cval=np.mean(image_data1))\n",
    "image_data2 = block_reduce(image_data2, block_size=kernel_size, func=np.mean, cval=np.mean(image_data2))\n",
    "image_data3 = block_reduce(image_data3, block_size=kernel_size, func=np.mean, cval=np.mean(image_data3))\n",
    "image_data4 = block_reduce(image_data4, block_size=kernel_size, func=np.mean, cval=np.mean(image_data4))"
   ]
  },
  {
   "cell_type": "code",
   "execution_count": 48,
   "id": "e6b7ef93",
   "metadata": {},
   "outputs": [],
   "source": [
    "# normalize the image pixel values between 0 and 1.0\n",
    "normalized_data = [normalize_image_data(image_data1), \n",
    "                   normalize_image_data(image_data2), \n",
    "                   normalize_image_data(image_data3), \n",
    "                   normalize_image_data(image_data4)]"
   ]
  },
  {
   "cell_type": "code",
   "execution_count": 49,
   "id": "576627be",
   "metadata": {},
   "outputs": [],
   "source": [
    "# define output file name\n",
    "#output_file = \"WISE_J00106847_0412688_ver1.midi\"\n",
    "output_file = \"WISE_J00106847_0412688_ver2.midi\""
   ]
  },
  {
   "cell_type": "code",
   "execution_count": 73,
   "id": "77732d90",
   "metadata": {
    "scrolled": true
   },
   "outputs": [
    {
     "name": "stdout",
     "output_type": "stream",
     "text": [
      "Octave offsets: [-1, 0, 1, 2]\n",
      "Creating MIDI file...\n",
      "-1\n",
      "min pitch:48, max pitch:60\n",
      "0\n",
      "min pitch:60, max pitch:72\n",
      "1\n",
      "min pitch:72, max pitch:84\n",
      "2\n",
      "min pitch:84, max pitch:96\n",
      "Saved: WISE_J00106847_0412688_ver2.midi\n"
     ]
    }
   ],
   "source": [
    "# Create the MIDI sonification\n",
    "create_image_sonification(normalized_data, output_file, bpm = 120)"
   ]
  },
  {
   "cell_type": "markdown",
   "id": "5e2fb88b",
   "metadata": {},
   "source": [
    "## IC 342"
   ]
  },
  {
   "cell_type": "code",
   "execution_count": 74,
   "id": "383a619c",
   "metadata": {},
   "outputs": [],
   "source": [
    "# File paths for IC 342\n",
    "image_file_path1 = file_path_joiner('WISE_J00567022_0680961_12.fits', 'wise_images/IC 342/')\n",
    "image_file_path2 = file_path_joiner('WISE_J00567022_0680961_22.fits', 'wise_images/IC 342/')\n",
    "image_file_path3 = file_path_joiner('WISE_J00567022_0680961_34.fits', 'wise_images/IC 342/')\n",
    "image_file_path4 = file_path_joiner('WISE_J00567022_0680961_46.fits', 'wise_images/IC 342/')\n",
    "\n",
    "# Open FITs images and get the data for IC 342\n",
    "image_data1 = open_fits_file(image_file_path1)\n",
    "image_data2 = open_fits_file(image_file_path2)\n",
    "image_data3 = open_fits_file(image_file_path3)\n",
    "image_data4 = open_fits_file(image_file_path4)\n",
    "\n",
    "# define kernal size fofr convolution\n",
    "kernel_size = (10,10)\n",
    "\n",
    "# Downsample images to 30 by 30\n",
    "image_data1 = block_reduce(image_data1, block_size=kernel_size, func=np.mean, cval=np.mean(image_data1))\n",
    "image_data2 = block_reduce(image_data2, block_size=kernel_size, func=np.mean, cval=np.mean(image_data2))\n",
    "image_data3 = block_reduce(image_data3, block_size=kernel_size, func=np.mean, cval=np.mean(image_data3))\n",
    "image_data4 = block_reduce(image_data4, block_size=kernel_size, func=np.mean, cval=np.mean(image_data4))"
   ]
  },
  {
   "cell_type": "code",
   "execution_count": 75,
   "id": "b63fa791",
   "metadata": {},
   "outputs": [],
   "source": [
    "# define output file name\n",
    "output_file = \"WISE_J00567022_0680961_ver1.midi\""
   ]
  },
  {
   "cell_type": "code",
   "execution_count": 76,
   "id": "d2dad07b",
   "metadata": {},
   "outputs": [
    {
     "name": "stdout",
     "output_type": "stream",
     "text": [
      "Octave offsets: [-1, 0, 1, 2]\n",
      "Creating MIDI file...\n",
      "-1\n",
      "min pitch:48, max pitch:60\n",
      "0\n",
      "min pitch:60, max pitch:72\n",
      "1\n",
      "min pitch:72, max pitch:84\n",
      "2\n",
      "min pitch:84, max pitch:96\n",
      "Saved: WISE_J00567022_0680961_ver1.midi\n"
     ]
    }
   ],
   "source": [
    "# Create the MIDI sonification\n",
    "create_image_sonification(normalized_data, output_file, bpm = 120)"
   ]
  }
 ],
 "metadata": {
  "kernelspec": {
   "display_name": "Python 3 (ipykernel)",
   "language": "python",
   "name": "python3"
  },
  "language_info": {
   "codemirror_mode": {
    "name": "ipython",
    "version": 3
   },
   "file_extension": ".py",
   "mimetype": "text/x-python",
   "name": "python",
   "nbconvert_exporter": "python",
   "pygments_lexer": "ipython3",
   "version": "3.10.9"
  }
 },
 "nbformat": 4,
 "nbformat_minor": 5
}
